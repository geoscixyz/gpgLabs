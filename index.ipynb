{
 "cells": [
  {
   "cell_type": "markdown",
   "metadata": {},
   "source": [
    "# GPG Labs\n",
    "\n",
    "<a href=\"http://gpg.geosci.xyz\"><img src=\"http://gpg.geosci.xyz/_images/intro.png\" alt=\"http://gpg.geosci.xyz\" align=\"right\" width=\"200\"></a>\n",
    "\n",
    "This collection of notebooks covers basic principles of applied geophysics. Associated material can be found in the <a href=\"http://gpg.geosci.xyz\">GPG: Geophysics for Practicing Geoscientists</a>.\n",
    "\n",
    "\n",
    "\n",
    "If you have feedback, we would like to hear from you! \n",
    "- <a href=\"http://geosci.xyz/contact\">Contact us</a>\n",
    "- <a href=\"https://github.com/ubcgif/em_examples/issues\">Report issues</a>\n",
    "- <a href=\"https://github.com/ubcgif/em_examples/\">Join the development</a>"
   ]
  },
  {
   "cell_type": "markdown",
   "metadata": {},
   "source": [
    "## Contents\n",
    "\n",
    "### Magnetics\n",
    "- <a href=\"Mag/InducedMag2D.ipynb\">Magnetic App</a>\n",
    "- <a href=\"Mag/FitMagProfile.ipynb\">Fit survey line form lab</a>\n",
    "\n",
    "### Seismic\n",
    "- <a href=\"Seismic/RefractionSurvey/SeisRefracSurvey.ipynb\">Seismic Refraction Survey</a>\n",
    "- <a href=\"Seismic/SyntheticSeismogram/SyntheticSeismogram.ipynb\">Synthetic Seismogram</a>\n",
    "- <a href=\"Seismic/NMO/SeismicNMOapp.ipynb\">Normal Moveout</a> \n",
    "\n",
    "### Ground Penetrating Radar\n",
    "\n",
    "### Electromagnetics\n",
    "\n",
    "### Direct Current Resistivity?"
   ]
  },
  {
   "cell_type": "markdown",
   "metadata": {},
   "source": [
    "<center><a rel=\"license\" href=\"http://creativecommons.org/licenses/by/4.0/\"><img alt=\"Creative Commons License\" style=\"border-width:0\" width=60 src=\"https://i.creativecommons.org/l/by/4.0/88x31.png\" /></a> \n",
    "\n",
    "This work is licensed under a <a rel=\"license\" href=\"http://creativecommons.org/licenses/by/4.0/\">Creative Commons Attribution 4.0 International License</a>.</center>"
   ]
  }
 ],
 "metadata": {
  "anaconda-cloud": {},
  "kernelspec": {
   "display_name": "Python [default]",
   "language": "python",
   "name": "python2"
  },
  "language_info": {
   "codemirror_mode": {
    "name": "ipython",
    "version": 2
   },
   "file_extension": ".py",
   "mimetype": "text/x-python",
   "name": "python",
   "nbconvert_exporter": "python",
   "pygments_lexer": "ipython2",
   "version": "2.7.12"
  }
 },
 "nbformat": 4,
 "nbformat_minor": 0
}
