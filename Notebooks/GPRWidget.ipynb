{
 "cells": [
  {
   "cell_type": "markdown",
   "metadata": {},
   "source": [
    "# Ground Penetrating Radar Widget\n",
    "\n",
    "<img src=\"https://github.com/geoscixyz/gpgLabs/blob/DevinGPR/figures/GPR/GPR_schematic_example.jpg?raw=true\" style=\"float: right; width: 500px;\"></img>\n",
    "\n",
    "Ground penetrating radar (GPR) is an electromagnetic survey method typically used for very near surface geophysical applications (metres to 10s of metres). During GPR surveys, a source antenna (Tx) is used to send a pulse of high-frequency electromagnetic waves (radiowaves) into the ground. As the radiowaves propagate through the Earth, they are distorted as a result of the Earth’s electromagnetic properties. At physical property interfaces, the radiowave signals may undergo transmission, reflection and/or refraction. Radiowave signals measured by a receiver antenna (Rx) are plotted on a radargram and used for interpretation. \n",
    "\n",
    "### Purpose\n",
    "\n",
    "The purpose of this Widget is to demonstrate how parameters characterizing a physical model can be adjusted to fit field collected GPR data for several cases. By fitting radargram data with a set of model parameters, we can infer the location and dimensions of buried targets of interest (e.g. pipes, sediment layers, cement casings, etc...)\n",
    "\n",
    "### Contents\n",
    "\n",
    "The GPR widget is separated into three parts:\n",
    "\n",
    "- Step 1: Finding a layered Earth model that fits noiseless data from a common shot gather\n",
    "- Step 2: Finding a layered Earth model that fits field collected common midpoint data\n",
    "- Step 3: Finding parameters that fit the signatures from (a) buried pipes and (b) a concrete slab in common offset data."
   ]
  },
  {
   "cell_type": "markdown",
   "metadata": {},
   "source": [
    "# Step 0: Import Necessary Packages"
   ]
  },
  {
   "cell_type": "code",
   "execution_count": 2,
   "metadata": {},
   "outputs": [],
   "source": [
    "%matplotlib inline\n",
    "from gpgLabs.GPR.GPRlab1 import *"
   ]
  },
  {
   "cell_type": "markdown",
   "metadata": {},
   "source": [
    "# Step 1: Synthetic data from a Common Shot Gather\n",
    "\n",
    "<img src=\"https://github.com/geoscixyz/gpgLabs/blob/DevinGPR/figures/GPR/GPR_wave_paths_diagram.png?raw=true\" style=\"float: right; width: 400px;\"></img>\n",
    "\n",
    "Here, we provide synthetic data for a common shot gather survey over a two layered Earth; see the [Geophysics for Practicing Geoscientists](http://gpg.geosci.xyz/content/GPR/GPR_fundamental_principles.html#example-signal-paths-for-a-2-layer-earth) (GPG) website for supporting material. For this geological scenario, we expect to see both direct and reflected GPR signals. For a common shot gather, we expect direct waves to produce linear signatures and reflected waves to produce hyperbolic signatures. Note that critically refracted signals may also be visible in the radargram.\n",
    "\n",
    "For this problem, we are interested in determining the wave velocities for layers 1 and 2 as well as the thickness of layer 1. The app below allows the user to change the relative dielectric permittivity and intercept time corresponding to both direct arrivals (blue) and reflected arrivals (red). By fitting the data with the app, we can use analytic expressions from the [GPG website](http://gpg.geosci.xyz/content/GPR/GPR_fundamental_principles.html#example-signal-paths-for-a-2-layer-earth) to recover the layer velocities and layer thickness.\n",
    "\n",
    "The parameters for the app are as follows:\n",
    "\n",
    "- epsrL: relative permittivity for a linear arrival (direct or refracted wave)\n",
    "- epsrH: relative permittivity for a hyperbolic arrival (reflection)\n",
    "- tinterpL: intercept time for a linear arrival (direct or refracted wave)\n",
    "- tinterpH: intercept time for a hyperbolic arrival (reflection)"
   ]
  },
  {
   "cell_type": "markdown",
   "metadata": {},
   "source": [
    "###### Note: the input signal is a negative Ricker Wavelet preceded by a 10ns flat signal."
   ]
  },
  {
   "cell_type": "code",
   "execution_count": 19,
   "metadata": {
    "collapsed": true
   },
   "outputs": [],
   "source": [
    "%matplotlib inline\n",
    "from gpgLabs.GPR.GPRlab1 import *"
   ]
  },
  {
   "cell_type": "code",
   "execution_count": 20,
   "metadata": {},
   "outputs": [
    {
     "name": "stdout",
     "output_type": "stream",
     "text": [
      "Downloading https://github.com/geoscixyz/gpgLabs/raw/master/assets/GPR/shot_raypaths.npy\n",
      "   saved to: /Volumes/MacintoshHD/Users/thibautastic/PhD_UBC/GITHUB/gpgLabs/Notebooks/shot_raypaths.npy\n",
      "Download completed!\n",
      "Downloading https://github.com/geoscixyz/gpgLabs/raw/master/assets/GPR/time.npy\n",
      "   saved to: /Volumes/MacintoshHD/Users/thibautastic/PhD_UBC/GITHUB/gpgLabs/Notebooks/time.npy\n",
      "Download completed!\n"
     ]
    }
   ],
   "source": [
    "dataFile = download(\"https://github.com/geoscixyz/gpgLabs/raw/master/assets/GPR/shot_raypaths.npy\",overwrite= True,\n",
    "                    verbose = False);\n",
    "timeFile = download(\"https://github.com/geoscixyz/gpgLabs/raw/master/assets/GPR/time.npy\",overwrite= True,\n",
    "                    verbose = False);"
   ]
  },
  {
   "cell_type": "code",
   "execution_count": 21,
   "metadata": {},
   "outputs": [
    {
     "data": {
      "application/vnd.jupyter.widget-view+json": {
       "model_id": "a64d07fc18b64a7989e59c6f9358c18e"
      }
     },
     "metadata": {},
     "output_type": "display_data"
    },
    {
     "data": {
      "text/plain": [
       "<function gpgLabs.GPR.GPRlab1.PrimaryWidgetFcn>"
      ]
     },
     "execution_count": 21,
     "metadata": {},
     "output_type": "execute_result"
    }
   ],
   "source": [
    "PrimaryWidget(dataFile,timeFile)"
   ]
  },
  {
   "cell_type": "markdown",
   "metadata": {},
   "source": [
    "# Step 2: Field Collected Data from a Common Midpoint Survey\n",
    "\n",
    "Here, we provide field collected data for a common midpoint survey over a layered Earth; see the [Geophysics for Practicing Geoscientists](http://gpg.geosci.xyz/content/GPR/GPR_survey_data.html#common-midpoint-survey) (GPG) website for supporting material. Data were acquired near the University of British Columbia. The number of distinct layers is challenging to identify due to the number of multiple reflections. However, it is possible to determine the wave velocity and thickness of the top layer by fitting the correct signature.\n",
    "\n",
    "For common midpoint surveys, horizontal layers result in hyperbolic features in radargram data. The app below allows the user to change the relative dielectric permittivity and intercept time corresponding to a reflection off the first interface. By fitting the correct signature with the app, we can use analytic expressions from the [GPG website](http://gpg.geosci.xyz/content/GPR/GPR_survey_data.html#common-midpoint-survey) to recover the wave velocity and thickness of the top layer.\n",
    "\n",
    "The parameters for the app are as follows:\n",
    "- epsr: Relative permittivity for direct wave\n",
    "- tinterp: intercept time for direct wave"
   ]
  },
  {
   "cell_type": "code",
   "execution_count": 8,
   "metadata": {},
   "outputs": [
    {
     "data": {
      "application/vnd.jupyter.widget-view+json": {
       "model_id": "5c991a842df4422784c2052ae68959c5"
      }
     },
     "metadata": {},
     "output_type": "display_data"
    },
    {
     "data": {
      "text/plain": [
       "<function gpgLabs.GPR.GPRlab1.PrimaryFieldWidgetFcn>"
      ]
     },
     "execution_count": 8,
     "metadata": {},
     "output_type": "execute_result"
    }
   ],
   "source": [
    "radargramImage = \"../figures/GPR/ubc_GPRcmp.png\"\n",
    "PrimaryFieldWidget(radargramImage)"
   ]
  },
  {
   "cell_type": "markdown",
   "metadata": {},
   "source": [
    "# Step 3: Field Collect Data for a Zero Offset Survey\n",
    "\n",
    "Here, we provide field collected data for a zero offset survey; see the [Geophysics for Practicing Geoscientists](http://gpg.geosci.xyz/content/GPR/GPR_survey_data.html) (GPG) website for supporting material. Data were acquired at the University of British Columbia in order to recover the location and dimensions of buried metallic pipes and a large cement slab. Two apps were developed for this, one to locate buried pipes and another to locate the cement slab. These are described below."
   ]
  },
  {
   "cell_type": "markdown",
   "metadata": {},
   "source": [
    "## Step 3a: A Pipe Model\n",
    "\n",
    "<img src=\"https://github.com/geoscixyz/gpgLabs/blob/master/figures/GPR/pipemodel.png?raw=true\" style=\"float: right; width: 450px;\"></img>\n",
    "\n",
    "For a [zero offset survey](http://gpg.geosci.xyz/content/GPR/GPR_survey_data.html#buried-compact-objects), we expect buried pipes to result in hyperbolic signatures within the radargram data. However, if a pipe is sufficiently thick, it will no longer act as a point reflector. Using the app below, we hope to fit data signatures that correspond to buried pipes. The parameters used to fit a particular signature can be use to infer the pipe's location and thickness.\n",
    "\n",
    "The model used to build the app is shown on the right. The model assumes a perfectly conducting pipe located within a homogeneous medium.\n",
    "\n",
    "The parameters for the app are as follows:\n",
    "\n",
    "- epsr: Relative permittivity of the background medium\n",
    "- h: Distance from center of the pipe to the surface\n",
    "- xc: Horizontal location of the pipe center\n",
    "- r: radius of the pipe"
   ]
  },
  {
   "cell_type": "code",
   "execution_count": 9,
   "metadata": {},
   "outputs": [
    {
     "data": {
      "application/vnd.jupyter.widget-view+json": {
       "model_id": "228cd63caaec4d31b407cac1bf15e457"
      }
     },
     "metadata": {},
     "output_type": "display_data"
    },
    {
     "data": {
      "text/plain": [
       "<function gpgLabs.GPR.GPRlab1.PipeWidgetFcn>"
      ]
     },
     "execution_count": 9,
     "metadata": {},
     "output_type": "execute_result"
    }
   ],
   "source": [
    "radargramImage = \"../figures/GPR/ubc_GPRdata.png\"\n",
    "PipeWidget(radargramImage)"
   ]
  },
  {
   "cell_type": "markdown",
   "metadata": {},
   "source": [
    "## Step 4b: A Slab Model\n",
    "\n",
    "<img src=\"https://github.com/geoscixyz/gpgLabs/blob/master/figures/GPR/slabmodel.png?raw=true\" style=\"float: right; width: 450px;\"></img>\n",
    "\n",
    "For a zero offset survey, the radargram signature for a horizontal slab has a known shape; see the [GPG website](http://gpg.geosci.xyz/content/GPR/GPR_survey_data.html#buried-compact-objects). Using the app below, we hope to fit the data signature that corresponds to a buried cement slab. The parameters used to fit the signature can be used to infer the slab's depth and dimensions.\n",
    "\n",
    "The model used to build the app is shown on the right. The model assumes a perfectly reflective slab located within a homogeneous medium.\n",
    "\n",
    "The parameters for app are as follows:\n",
    "\n",
    "- epsr: Relative permittivity of the background medium\n",
    "- h: Distance from top boundary of concrete casing to the surface\n",
    "- x1: horizontal location of left boundary of the concrete casing model\n",
    "- x2: horizontal location of right boundary of the concrete casing model"
   ]
  },
  {
   "cell_type": "code",
   "execution_count": 10,
   "metadata": {
    "scrolled": true
   },
   "outputs": [
    {
     "data": {
      "application/vnd.jupyter.widget-view+json": {
       "model_id": "abef7809b4b0421e85146cb683f3ae1d"
      }
     },
     "metadata": {},
     "output_type": "display_data"
    },
    {
     "data": {
      "text/plain": [
       "<function gpgLabs.GPR.GPRlab1.WallWidgetFcn>"
      ]
     },
     "execution_count": 10,
     "metadata": {},
     "output_type": "execute_result"
    }
   ],
   "source": [
    "radargramImage = \"../figures/GPR/ubc_GPRdata.png\"\n",
    "WallWidget(radargramImage)"
   ]
  },
  {
   "cell_type": "code",
   "execution_count": null,
   "metadata": {
    "collapsed": true
   },
   "outputs": [],
   "source": []
  }
 ],
 "metadata": {
  "anaconda-cloud": {},
  "kernelspec": {
   "display_name": "Python [default]",
   "language": "python",
   "name": "python2"
  },
  "language_info": {
   "codemirror_mode": {
    "name": "ipython",
    "version": 2
   },
   "file_extension": ".py",
   "mimetype": "text/x-python",
   "name": "python",
   "nbconvert_exporter": "python",
   "pygments_lexer": "ipython2",
   "version": "2.7.13"
  },
  "widgets": {
   "state": {
    "50cfd9e25142477285f01ec37e34f3b3": {
     "views": [
      {
       "cell_index": 20
      }
     ]
    },
    "70e5d1caabdd46dfb366d65b13393657": {
     "views": [
      {
       "cell_index": 16
      }
     ]
    },
    "92c87604cdcd48fdb4eaa9ed3579a14f": {
     "views": [
      {
       "cell_index": 7
      }
     ]
    },
    "ae5794be77dd4b3c958003dc8bf3f9cc": {
     "views": [
      {
       "cell_index": 10
      }
     ]
    }
   },
   "version": "1.2.0"
  }
 },
 "nbformat": 4,
 "nbformat_minor": 1
}
