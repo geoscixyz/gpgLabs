{
 "cells": [
  {
   "cell_type": "markdown",
   "metadata": {},
   "source": [
    "# Ground Penetrating Radar Widget\n",
    "\n",
    "Ground penetrating radar (GPR) is an electromagnetic survey method typically used for very near surface geophysical applications (metres to 10s of metres). During GPR surveys, a source antenna (Tx) is used to send a pulse of high-frequency electromagnetic waves (radiowaves) into the ground. As the radiowaves propagate through the Earth, they are distorted as a result of the Earth’s electromagnetic properties. At physical property interfaces, the radiowave signals may undergo transmission, reflection and/or refraction. Radiowave signals measured by a receiver antenna (Rx) are plotted on a radargram and used for interpretation. \n",
    "\n",
    "<img src=\"https://github.com/geoscixyz/gpgLabs/blob/DevinGPR/figures/GPR/GPR_schematic_example.jpg?raw=true\" style=\"float: right; width=400\"></img>\n",
    "\n",
    "### Purpose\n",
    "\n",
    "The purpose of this Widget is to demonstrate how parameters describing a physical model can be adjusted to fit field collected GPR data for several cases. By fitting radargram data with a set of model parameters, we can infer the location and dimensions of buried targets of interest (e.g. pipes, sediment layers, cement casings, etc...)\n",
    "\n",
    "### Contents\n",
    "\n",
    "The GPR widget is separated into three parts:\n",
    "\n",
    "- Step 1: Finding a layered Earth model that fits noiseless data from a common shot gather\n",
    "- Step 2: Finding a layered Earth model that fits field collected common midpoint data\n",
    "- Step 3: Finding parameters that fit the signatures from (a) buried pipes and (b) a concrete slab in common offset data."
   ]
  },
  {
   "cell_type": "markdown",
   "metadata": {},
   "source": [
    "# Step 0: Import Necessary Packages"
   ]
  },
  {
   "cell_type": "code",
   "execution_count": 1,
   "metadata": {
    "collapsed": true
   },
   "outputs": [],
   "source": [
    "%matplotlib inline\n",
    "from gpgLabs.GPR.GPRlab1 import *"
   ]
  },
  {
   "cell_type": "markdown",
   "metadata": {},
   "source": [
    "# Step 1: Synthetic data fitting App "
   ]
  },
  {
   "cell_type": "markdown",
   "metadata": {},
   "source": [
    "We provide below measured EM signals at receiver locations for a model similar to the one presented at Figure 1 in the lab instructions. \n",
    "\n",
    "The problem here is that you do not know material properties of three layer model (air, layer 1, and layer 2). In this step, you will estimate the geologic model corresponding to the measured data by adjusting given parameters.\n",
    "\n",
    "Parameters given here:\n",
    "- epsrL: relative permittivity for a linear arrival (direct or refracted wave)\n",
    "- epsrH: relative permittivity for a hyperbolic arrival (reflection)\n",
    "- tinterpL: intercept time for a linear arrival (direct or refracted wave)\n",
    "- tinterpH: intercept time for a hyperbolic arrival (reflection)"
   ]
  },
  {
   "cell_type": "markdown",
   "metadata": {},
   "source": [
    "###### Note: the input signal is a negative Ricker Wavelet preceded by a 10ns flat signal."
   ]
  },
  {
   "cell_type": "code",
   "execution_count": 2,
   "metadata": {},
   "outputs": [
    {
     "data": {
      "application/vnd.jupyter.widget-view+json": {
       "model_id": "11cf853c951943d79ddbe9595db211d0"
      }
     },
     "metadata": {},
     "output_type": "display_data"
    },
    {
     "data": {
      "text/plain": [
       "<function gpgLabs.GPR.GPRlab1.PrimaryWidgetFcn>"
      ]
     },
     "execution_count": 2,
     "metadata": {},
     "output_type": "execute_result"
    }
   ],
   "source": [
    "dataFile = \"../assets/GPR/shot_raypaths.npy\"\n",
    "timeFile = \"../assets/GPR/time.npy\"\n",
    "PrimaryWidget(dataFile,timeFile)"
   ]
  },
  {
   "cell_type": "markdown",
   "metadata": {},
   "source": [
    "## Step 2: Parametric field data fitting App for CMP survey"
   ]
  },
  {
   "cell_type": "markdown",
   "metadata": {},
   "source": [
    "We move on treating field GPR data set, which was acquired near University of British Columbia, Canada. The first observed data set you will work with is a common midpoint survey. In this step, you will estimate velocity of the ground by adjusting the given parameters. \n",
    "\n",
    "Parameters given here:\n",
    "- epsr: Relative permittivity for direct wave\n",
    "- tinterp: intercept time for direct wave"
   ]
  },
  {
   "cell_type": "code",
   "execution_count": 3,
   "metadata": {},
   "outputs": [
    {
     "data": {
      "application/vnd.jupyter.widget-view+json": {
       "model_id": "0ec076420a524df48fa330aeef650244"
      }
     },
     "metadata": {},
     "output_type": "display_data"
    },
    {
     "data": {
      "text/plain": [
       "<function gpgLabs.GPR.GPRlab1.PrimaryFieldWidgetFcn>"
      ]
     },
     "execution_count": 3,
     "metadata": {},
     "output_type": "execute_result"
    }
   ],
   "source": [
    "radargramImage = \"../figures/GPR/ubc_GPRcmp.png\"\n",
    "PrimaryFieldWidget(radargramImage)"
   ]
  },
  {
   "cell_type": "markdown",
   "metadata": {},
   "source": [
    "## Step 3: Field data fitting App for a profile line"
   ]
  },
  {
   "cell_type": "markdown",
   "metadata": {},
   "source": [
    "The second data set you will work with is a common offset profile line of GPR data collected near UBC. There are two features in the data that you will fit: a pipe (using the red curve in the first plot below) and a concrete slab (using the blue curve in the second plot below). \n"
   ]
  },
  {
   "cell_type": "markdown",
   "metadata": {},
   "source": [
    "### Step 4a: A pipe model"
   ]
  },
  {
   "cell_type": "markdown",
   "metadata": {},
   "source": [
    "Parameters given here:\n",
    "- epsr: Relative permittivity of the background medium\n",
    "- h: Distance from center of the pipe to the surface\n",
    "- xc: Horizontal location of the pipe center\n",
    "- r: radius of the pipe"
   ]
  },
  {
   "cell_type": "markdown",
   "metadata": {},
   "source": [
    "<img src=\"https://github.com/geoscixyz/gpgLabs/blob/master/figures/GPR/pipemodel.png?raw=true\" width=\"500\"></img>"
   ]
  },
  {
   "cell_type": "code",
   "execution_count": 4,
   "metadata": {},
   "outputs": [
    {
     "data": {
      "application/vnd.jupyter.widget-view+json": {
       "model_id": "e01dd52ea4ad480ba150e6fa6f954257"
      }
     },
     "metadata": {},
     "output_type": "display_data"
    },
    {
     "data": {
      "text/plain": [
       "<function gpgLabs.GPR.GPRlab1.PipeWidgetFcn>"
      ]
     },
     "execution_count": 4,
     "metadata": {},
     "output_type": "execute_result"
    }
   ],
   "source": [
    "radargramImage = \"../figures/GPR/ubc_GPRdata.png\"\n",
    "PipeWidget(radargramImage)"
   ]
  },
  {
   "cell_type": "markdown",
   "metadata": {},
   "source": [
    "### Step 4b: A slab model"
   ]
  },
  {
   "cell_type": "markdown",
   "metadata": {},
   "source": [
    "Parameters given here:\n",
    "- epsr: Relative permittivity of the background medium\n",
    "- h: Distance from top boundary of concrete casing to the surface\n",
    "- x1: horizontal location of left boundary of the concrete casing model\n",
    "- x2: horizontal location of right boundary of the concrete casing model\n"
   ]
  },
  {
   "cell_type": "markdown",
   "metadata": {},
   "source": [
    "<img src=\"https://github.com/geoscixyz/gpgLabs/blob/master/figures/GPR/slabmodel.png?raw=true\" width=\"500\"></img>"
   ]
  },
  {
   "cell_type": "code",
   "execution_count": 5,
   "metadata": {
    "scrolled": true
   },
   "outputs": [
    {
     "data": {
      "application/vnd.jupyter.widget-view+json": {
       "model_id": "2e3db189117f460382cb0c370650a1c9"
      }
     },
     "metadata": {},
     "output_type": "display_data"
    },
    {
     "data": {
      "text/plain": [
       "<function gpgLabs.GPR.GPRlab1.WallWidgetFcn>"
      ]
     },
     "execution_count": 5,
     "metadata": {},
     "output_type": "execute_result"
    }
   ],
   "source": [
    "radargramImage = \"../figures/GPR/ubc_GPRdata.png\"\n",
    "WallWidget(radargramImage)"
   ]
  },
  {
   "cell_type": "code",
   "execution_count": null,
   "metadata": {
    "collapsed": true
   },
   "outputs": [],
   "source": []
  },
  {
   "cell_type": "code",
   "execution_count": null,
   "metadata": {
    "collapsed": true
   },
   "outputs": [],
   "source": []
  },
  {
   "cell_type": "code",
   "execution_count": null,
   "metadata": {
    "collapsed": true
   },
   "outputs": [],
   "source": []
  },
  {
   "cell_type": "code",
   "execution_count": null,
   "metadata": {
    "collapsed": true
   },
   "outputs": [],
   "source": []
  }
 ],
 "metadata": {
  "anaconda-cloud": {},
  "kernelspec": {
   "display_name": "Python [default]",
   "language": "python",
   "name": "python2"
  },
  "language_info": {
   "codemirror_mode": {
    "name": "ipython",
    "version": 2
   },
   "file_extension": ".py",
   "mimetype": "text/x-python",
   "name": "python",
   "nbconvert_exporter": "python",
   "pygments_lexer": "ipython2",
   "version": "2.7.13"
  },
  "widgets": {
   "state": {
    "50cfd9e25142477285f01ec37e34f3b3": {
     "views": [
      {
       "cell_index": 20
      }
     ]
    },
    "70e5d1caabdd46dfb366d65b13393657": {
     "views": [
      {
       "cell_index": 16
      }
     ]
    },
    "92c87604cdcd48fdb4eaa9ed3579a14f": {
     "views": [
      {
       "cell_index": 7
      }
     ]
    },
    "ae5794be77dd4b3c958003dc8bf3f9cc": {
     "views": [
      {
       "cell_index": 10
      }
     ]
    }
   },
   "version": "1.2.0"
  }
 },
 "nbformat": 4,
 "nbformat_minor": 1
}
