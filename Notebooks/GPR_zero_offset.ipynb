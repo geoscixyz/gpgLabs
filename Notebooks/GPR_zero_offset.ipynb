{
 "cells": [
  {
   "cell_type": "markdown",
   "metadata": {
    "collapsed": true
   },
   "source": [
    "# Zero-Offset GPR Widget\n",
    "\n",
    "### Purpose\n",
    "\n",
    "The purpose of this widget is to demonstrate how parameters characterizing a physical model can be adjusted to fit field collected GPR data for several cases. By fitting radargram data with a set of model parameters, we can infer the location and dimensions of buried targets of interest (e.g. pipes, sediment layers, cement casings, etc...)\n",
    "\n",
    "### Contents\n",
    "\n",
    "The GPR widget is separated into three parts:\n",
    "\n",
    "- Step 1: Finding a layered Earth model that fits noiseless data from a common shot gather\n",
    "- Step 2: Finding a layered Earth model that fits field collected common midpoint data\n",
    "- Step 3: Finding parameters that fit the signatures from (a) buried pipes and (b) a concrete slab in common offset data."
   ]
  },
  {
   "cell_type": "code",
   "execution_count": 1,
   "metadata": {},
   "outputs": [],
   "source": [
    "%matplotlib inline\n",
    "from gpgLabs.GPR.GPR_zero_offset import *"
   ]
  },
  {
   "cell_type": "code",
   "execution_count": null,
   "metadata": {},
   "outputs": [],
   "source": []
  },
  {
   "cell_type": "code",
   "execution_count": 2,
   "metadata": {},
   "outputs": [
    {
     "data": {
      "application/vnd.jupyter.widget-view+json": {
       "model_id": "864be072a0404ffd9c75dad6f90fc058"
      }
     },
     "metadata": {},
     "output_type": "display_data"
    },
    {
     "data": {
      "text/plain": [
       "<function gpgLabs.GPR.GPR_zero_offset.GPRWidgetWaveRegime>"
      ]
     },
     "execution_count": 2,
     "metadata": {},
     "output_type": "execute_result"
    }
   ],
   "source": [
    "WidgetWaveRegime()"
   ]
  },
  {
   "cell_type": "code",
   "execution_count": null,
   "metadata": {},
   "outputs": [],
   "source": []
  },
  {
   "cell_type": "code",
   "execution_count": null,
   "metadata": {
    "collapsed": true
   },
   "outputs": [],
   "source": []
  },
  {
   "cell_type": "code",
   "execution_count": null,
   "metadata": {
    "collapsed": true
   },
   "outputs": [],
   "source": []
  }
 ],
 "metadata": {
  "kernelspec": {
   "display_name": "Python [default]",
   "language": "python",
   "name": "python2"
  },
  "language_info": {
   "codemirror_mode": {
    "name": "ipython",
    "version": 2
   },
   "file_extension": ".py",
   "mimetype": "text/x-python",
   "name": "python",
   "nbconvert_exporter": "python",
   "pygments_lexer": "ipython2",
   "version": "2.7.13"
  }
 },
 "nbformat": 4,
 "nbformat_minor": 2
}
