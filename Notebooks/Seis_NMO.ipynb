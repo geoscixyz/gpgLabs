{
 "cells": [
  {
   "cell_type": "markdown",
   "metadata": {},
   "source": [
    "# Seismic NMO Widget"
   ]
  },
  {
   "cell_type": "markdown",
   "metadata": {},
   "source": [
    "## Using the Notebook"
   ]
  },
  {
   "cell_type": "markdown",
   "metadata": {},
   "source": [
    "This is the <a href=\"https://jupyter.org/\">Jupyter Notebook</a>, an interactive coding and computation environment. For this lab, you do not have to write any code, you will only be running it. \n",
    "\n",
    "To use the notebook:\n",
    "- \"Shift + Enter\" runs the code within the cell (so does the forward arrow button near the top of the document)\n",
    "- You can alter variables and re-run cells\n",
    "- If you want to start with a clean slate, restart the Kernel either by going to the top, clicking on Kernel: Restart, or by \"esc + 00\" (if you do this, you will need to re-run Step 0 before running any other cells in the notebook) \n",
    "\n",
    "Instructions as to how to set up Python and the iPython notebook on your personal computer are attached in the appendix of the lab"
   ]
  },
  {
   "cell_type": "markdown",
   "metadata": {},
   "source": [
    "## Step 0: Import Necessary Packages"
   ]
  },
  {
   "cell_type": "code",
   "execution_count": null,
   "metadata": {},
   "outputs": [],
   "source": [
    "%pylab inline\n",
    "from gpgLabs.Seismic.NMOwidget import *\n",
    "\n",
    "# Define path to required data files\n",
    "synDataFilePath = 'http://github.com/geoscixyz/gpgLabs/raw/master/assets/Seismic/syndata1.npy'\n",
    "obsDataFilePath = 'https://github.com/geoscixyz/gpgLabs/raw/master/assets/Seismic/obsdata1.npy'\n",
    "timeFilePath= 'https://github.com/geoscixyz/gpgLabs/raw/master/assets/Seismic/time1.npy'\n",
    "\n",
    "# Download the data\n",
    "synData = download(synDataFilePath,overwrite=True,verbose=False)\n",
    "obsData = download(obsDataFilePath,overwrite=True,verbose=False)\n",
    "timeData = download(timeFilePath,overwrite=True,verbose=False)"
   ]
  },
  {
   "cell_type": "markdown",
   "metadata": {},
   "source": [
    "# Two common-mid-point (CMP) gathers: Clean and Noisy"
   ]
  },
  {
   "cell_type": "markdown",
   "metadata": {},
   "source": [
    "We have two CMP gathers generated from different geologic models. One data set is clean and the other is contaminated with noise. The seismic data were adapted from SeismicLab (http://seismic-lab.physics.ualberta.ca/). \n",
    "\n",
    "In this notebook, we will walk through how to construct a normal incidence seismogram from these data sets.\n",
    "\n",
    "We will do this in the following steps:\n",
    "- Plot the data\n",
    "- Fit a hyperbola to the reflection event in the data\n",
    "- Perform the NMO correction and stack"
   ]
  },
  {
   "cell_type": "markdown",
   "metadata": {},
   "source": [
    "## Step 1: Plot the data"
   ]
  },
  {
   "cell_type": "markdown",
   "metadata": {},
   "source": [
    "As you can see from clean CMP gather, you can recognize that we have only have one reflector, meaning there is a single interface seperating two geologic units visible in these data. \n",
    "(Note: The direct and any refracted arrivals have been removed). \n",
    "\n",
    "It is difficult to distinguish any reflectors in the noisy data. However, there is a single reflector in these data, and we will perform normal moveout (NMO) and stacking operations to construct a normal-incidence seismogram where this reflector is visible.  "
   ]
  },
  {
   "cell_type": "code",
   "execution_count": null,
   "metadata": {},
   "outputs": [],
   "source": [
    "# Plot the data\n",
    "ViewWiggle(synData, obsData)"
   ]
  },
  {
   "cell_type": "markdown",
   "metadata": {},
   "source": [
    "### Step 2: Fit A Hyperbola to the Data"
   ]
  },
  {
   "cell_type": "markdown",
   "metadata": {},
   "source": [
    "- Each reflection event in a CMP gather has a travel time that corresponds to a hyperbola: $$ t(x) = \\sqrt{\\frac{x^2}{v^2_{stacking}} + t_0^2} \\\\$$ where $x$ is offset between source and receiver, $v_{stacking}$ is stacking velocity, and $t_0$ is the intercept time: $$ t_0 = \\sqrt{\\frac{4d^2}{v^2_{stacking}}} \\\\$$ where $d$ is the thickness of the first layer.\n",
    "\n",
    "- For each reflection event hyperbola, perform a velocity analysis to find $v_{stacking}$. This is done by first choosing $t_o$. Then choose a trial value of velocity. <img src=\"http://www.eos.ubc.ca/courses/eosc350/content/methods/meth_10d/assets/kearey_fig4_21.gif\"></img>\n",
    "\n",
    "- Calculate the Normal Moveout Correction: Using the hyperbolia corresponding to $v_{stacking}$, compute the normal moveout for each trace and then adjust the reflection time by the amount $\\triangle T$: $$ \\triangle T = t_0-t(x) \\\\ $$ <img src=\"http://www.eos.ubc.ca/courses/eosc350/content/methods/meth_10d/assets/ch1_fig8.gif\"></img>\n",
    "\n",
    "Estimate $t_0$, and a plausible $v_{stack}$ by altering t0 and v using below widget. This hyperbola will be drawn as red hyperbola on the middle panel. On the right panel we apply stack with the velocity that you fit, and provice stacked trace."
   ]
  },
  {
   "cell_type": "markdown",
   "metadata": {},
   "source": [
    "Parameters of the below widget to fit observed reflection event are:\n",
    "\n",
    "- t0: intercept time of the hyperbola \n",
    "- v: velocity of the hyperbola"
   ]
  },
  {
   "cell_type": "code",
   "execution_count": null,
   "metadata": {},
   "outputs": [],
   "source": [
    "# Fit hyperbola to clean data\n",
    "clean = InteractClean(synData,timeData)\n",
    "clean"
   ]
  },
  {
   "cell_type": "markdown",
   "metadata": {},
   "source": [
    "### Step 3: Applying NMO correction to the Noisy Data"
   ]
  },
  {
   "cell_type": "markdown",
   "metadata": {},
   "source": [
    "Compared to the previous data set, this one is quite noisy. There is a reflector in the data, and your goal is to construct a stacked trace where this reflection is visible. \n",
    "\n",
    "Estimate $t_0$, and a plausible $v_{stack}$ by altering t0 and v using below widget. This hyperbola will be drawn as red hyperbola on the middle panel. On the right panel we apply stack with the velocity that you fit, and provice stacked trace."
   ]
  },
  {
   "cell_type": "code",
   "execution_count": null,
   "metadata": {},
   "outputs": [],
   "source": [
    "noisy = InteractNosiy(obsData,timeData)\n",
    "noisy"
   ]
  },
  {
   "cell_type": "markdown",
   "metadata": {},
   "source": [
    "### Step 4: Apply CMP stack with estimated $v_{stack}$ (For noisy CMP gather)"
   ]
  },
  {
   "cell_type": "markdown",
   "metadata": {},
   "source": [
    "In the previous step, you chose an intercept time (t0) and a stacking velocity (v). Running below cell will generate trhee stacked traces:\n",
    "- Left: using t0 and v-200 m/s that we fit from Step 3\n",
    "- Middle: using t0 and v that we fit from Step 3\n",
    "- Right: using t0 and v+200 m/s that we fit from Step 3"
   ]
  },
  {
   "cell_type": "code",
   "execution_count": null,
   "metadata": {},
   "outputs": [],
   "source": [
    "NMOstackthree(obsData, noisy.kwargs[\"t0\"], noisy.kwargs[\"v\"]-200., noisy.kwargs[\"v\"], noisy.kwargs[\"v\"]+200.,timeData)"
   ]
  },
  {
   "cell_type": "code",
   "execution_count": null,
   "metadata": {
    "collapsed": true
   },
   "outputs": [],
   "source": []
  }
 ],
 "metadata": {
  "kernelspec": {
   "display_name": "Python 3",
   "language": "python",
   "name": "python3"
  },
  "language_info": {
   "codemirror_mode": {
    "name": "ipython",
    "version": 3
   },
   "file_extension": ".py",
   "mimetype": "text/x-python",
   "name": "python",
   "nbconvert_exporter": "python",
   "pygments_lexer": "ipython3",
   "version": "3.6.0"
  }
 },
 "nbformat": 4,
 "nbformat_minor": 1
}
